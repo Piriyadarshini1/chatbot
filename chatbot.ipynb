{
  "cells": [
    {
      "cell_type": "markdown",
      "metadata": {
        "id": "s3P9B2sn7Tix"
      },
      "source": [
        "**ARTIFICIAL INTELLIGENCE**\n"
      ]
    },
    {
      "cell_type": "markdown",
      "metadata": {
        "id": "7vOLExBiyVXT"
      },
      "source": [
        "TASK 1\n",
        "CHATBOT WITH RULE-BASED RESPONSES"
      ]
    },
    {
      "cell_type": "code",
      "execution_count": null,
      "metadata": {
        "colab": {
          "base_uri": "https://localhost:8080/"
        },
        "id": "P4WyNyJxBqTJ",
        "outputId": "688913bd-eefc-405a-b265-a24dab230d3c"
      },
      "outputs": [
        {
          "output_type": "stream",
          "name": "stdout",
          "text": [
            "You: hi\n",
            "Chatbot: Hello there! How can I assist you today?\n",
            "You: how are you\n",
            "Chatbot: I am just a computer program, but I am here to help you!\n",
            "You: how is your day?\n",
            "Chatbot: Im doing well, thank you. How about you?\n",
            "You: yeah good\n",
            "Chatbot: Great! If you ever have more questions or need assistance in the future, feel free to reach out.\n",
            "You: whats the weather like?\n",
            "Chatbot: Where are you located? I can check the current weather for your area.\n",
            "You: iam in chennai\n",
            "Chatbot: It looks like the rain is expected to continue for the next few hours, but it should clear up later in the afternoon..\n",
            "You: Good to know.Do you have any suggestions for indoor activities instead?\n",
            "Chatbot: Of course! On a rainy day, you might enjoy watching a movie, reading a book, or trying out a new indoor hobby like painting or cooking.\n",
            "You: thanks\n",
            "Chatbot: Youre welcome! \n",
            "You: ok\n",
            "Chatbot: If you ever have more questions or need assistance in the future, feel free to reach out.\n",
            "You: bye\n",
            "Chatbot: Goodbye! Have a great day!\n",
            "You: exit\n",
            "Chatbot: Goodbye!\n"
          ]
        }
      ],
      "source": [
        "import re\n",
        "\n",
        "# Define a dictionary of predefined rules and responses\n",
        "rules = {\n",
        "    r'hello|hi|hey': 'Hello there! How can I assist you today?',\n",
        "    r'how are you': 'I am just a computer program, but I am here to help you!',\n",
        "    r'what is your name': 'I am a chatbot. You can call me ChatGPT.',\n",
        "    r'who are you': 'I am ChatGPT, a simple rule-based chatbot.',\n",
        "    r'Whats the weather like?': 'Where are you located? I can check the current weather for your area.',\n",
        "    r'Iam in Chennai': 'It looks like the rain is expected to continue for the next few hours, but it should clear up later in the afternoon..',\n",
        "    r'Good to know.Do you have any suggestions for indoor activities instead?': 'Of course! On a rainy day, you might enjoy watching a movie, reading a book, or trying out a new indoor hobby like painting or cooking.',\n",
        "    r'thanks for the suggestion!|thanks': 'Youre welcome! ',\n",
        "    r'bye|goodbye': 'Goodbye! Have a great day!',\n",
        "    r'How is your day?':'Im doing well, thank you. How about you?',\n",
        "    r'Not bad,Anything exciting happening?':'Not much on my end. Just here and ready to chat. Anything specific you did like to talk about? ',\n",
        "    r'How about your favorite movies?|your favorite movie? ':'I dont have personal favorites, but Ive heard \"The Matrix\" and \"Inception\" are popular.',\n",
        "    r'Those are great choices! I love \"The Shawshank Redemption\" and \"Pulp Fiction.\" Ever seen those?':': Yes, both are classics! \"The Shawshank Redemption\" has a powerful story. ',\n",
        "    r'yeah good':'Great! If you ever have more questions or need assistance in the future, feel free to reach out.',\n",
        "    r'Nothing, bye':'Have a great day!',\n",
        "    r'ok':'If you ever have more questions or need assistance in the future, feel free to reach out.',\n",
        "    r'How about your favorite movies?|your favorite movie? ':'I dont have personal favorites, but Ive heard \"The Matrix\" and \"Inception\" are popular.',\n",
        "\n",
        "\n",
        "\n",
        "   }\n",
        "\n",
        "# Function to respond to user inputs\n",
        "def respond(user_input):\n",
        "    for pattern, response in rules.items():\n",
        "        if re.search(pattern, user_input, re.IGNORECASE):\n",
        "            return response\n",
        "    return \"I'm sorry, I don't understand. Please ask another question.\"\n",
        "\n",
        "# Main loop for chatbot interaction\n",
        "while True:\n",
        "    user_input = input(\"You: \")\n",
        "    if user_input.lower() == 'exit':\n",
        "        print(\"Chatbot: Goodbye!\")\n",
        "        break\n",
        "    response = respond(user_input)\n",
        "    print(\"Chatbot:\", response)\n",
        "\n",
        "\n",
        "\n",
        "\n"
      ]
    }
  ],
  "metadata": {
    "colab": {
      "provenance": []
    },
    "kernelspec": {
      "display_name": "Python 3",
      "name": "python3"
    },
    "language_info": {
      "name": "python"
    }
  },
  "nbformat": 4,
  "nbformat_minor": 0
}